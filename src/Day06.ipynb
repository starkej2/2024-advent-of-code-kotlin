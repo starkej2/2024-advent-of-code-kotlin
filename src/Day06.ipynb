{
 "cells": [
  {
   "metadata": {},
   "cell_type": "code",
   "source": [
    "@file:DependsOn(\"com.toldoven.aoc:aoc-kotlin-notebook:1.1.2\")\n",
    "\n",
    "import com.toldoven.aoc.notebook.AocClient\n",
    "\n",
    "val day = AocClient.fromFile().interactiveDay(2024, 6)\n",
    "day.viewPartOne()"
   ],
   "outputs": [],
   "execution_count": null
  },
  {
   "metadata": {},
   "cell_type": "code",
   "source": [
    "data class Grid(private val elements: List<CharArray>) {\n",
    "    val coordinates: Sequence<Coordinate> = sequence {\n",
    "        for (rowIndex: Int in elements.indices) {\n",
    "            for (columnIndex: Int in elements[rowIndex].indices) {\n",
    "                yield(Coordinate(x = columnIndex, y = rowIndex))\n",
    "            }\n",
    "        }\n",
    "    }\n",
    "\n",
    "    fun getAt(x: Int, y: Int): Char = elements[y][x]\n",
    "    fun getAt(coordinate: Coordinate): Char = getAt(coordinate.x, coordinate.y)\n",
    "\n",
    "    fun indexOfFirst(vararg char: Char): Coordinate? {\n",
    "        val charsToFind = char.toSet()\n",
    "        coordinates.forEach { coordinate ->\n",
    "            if (charsToFind.contains(getAt(coordinate))) {\n",
    "                return coordinate\n",
    "            }\n",
    "        }\n",
    "        return null\n",
    "    }\n",
    "}\n",
    "\n",
    "data class Coordinate(val x: Int, val y: Int) {\n",
    "    override fun toString(): String = \"($x,$y)\"\n",
    "}"
   ],
   "outputs": [],
   "execution_count": null
  },
  {
   "metadata": {},
   "cell_type": "code",
   "source": [
    "val testInput = \"\"\"\n",
    "....#.....\n",
    ".........#\n",
    "..........\n",
    "..#.......\n",
    ".......#..\n",
    "..........\n",
    ".#..^.....\n",
    "........#.\n",
    "#.........\n",
    "......#...\n",
    "\"\"\".trimMargin()\n",
    "\n",
    "val grid = Grid(testInput.lines().map { it.toCharArray() })\n",
    "grid.coordinates.toList()"
   ],
   "outputs": [],
   "execution_count": null
  },
  {
   "metadata": {},
   "cell_type": "code",
   "source": "grid.indexOfFirst('<', 'v', '^', '>')",
   "outputs": [],
   "execution_count": null
  },
  {
   "metadata": {},
   "cell_type": "code",
   "source": "",
   "outputs": [],
   "execution_count": null
  }
 ],
 "metadata": {
  "kernelspec": {
   "display_name": "Kotlin",
   "language": "kotlin",
   "name": "kotlin"
  },
  "language_info": {
   "name": "kotlin",
   "version": "1.9.23",
   "mimetype": "text/x-kotlin",
   "file_extension": ".kt",
   "pygments_lexer": "kotlin",
   "codemirror_mode": "text/x-kotlin",
   "nbconvert_exporter": ""
  },
  "ktnbPluginMetadata": {
   "projectDependencies": [
    "2024-advent-of-code-kotlin.main"
   ],
   "projectLibraries": false
  }
 },
 "nbformat": 4,
 "nbformat_minor": 0
}
